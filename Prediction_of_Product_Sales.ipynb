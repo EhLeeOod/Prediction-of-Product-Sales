{
  "nbformat": 4,
  "nbformat_minor": 0,
  "metadata": {
    "colab": {
      "provenance": [],
      "authorship_tag": "ABX9TyNkwHzlK8yPBfXBfe1/MP/w",
      "include_colab_link": true
    },
    "kernelspec": {
      "name": "python3",
      "display_name": "Python 3"
    },
    "language_info": {
      "name": "python"
    }
  },
  "cells": [
    {
      "cell_type": "markdown",
      "metadata": {
        "id": "view-in-github",
        "colab_type": "text"
      },
      "source": [
        "<a href=\"https://colab.research.google.com/github/EhLeeOod/Prediction-of-Product-Sales/blob/main/Prediction_of_Product_Sales.ipynb\" target=\"_parent\"><img src=\"https://colab.research.google.com/assets/colab-badge.svg\" alt=\"Open In Colab\"/></a>"
      ]
    },
    {
      "cell_type": "markdown",
      "source": [
        "# Prediction of Product Sales\n"
      ],
      "metadata": {
        "id": "K5DpNzBMzyli"
      }
    },
    {
      "cell_type": "markdown",
      "source": [
        "- Author: Eliud Uresti"
      ],
      "metadata": {
        "id": "GFIa48Wf0iMG"
      }
    },
    {
      "cell_type": "markdown",
      "source": [
        "## Project Overview"
      ],
      "metadata": {
        "id": "G6F5pXv9z5MS"
      }
    },
    {
      "cell_type": "markdown",
      "source": [
        "## Load and Inspect Data\n",
        "\n"
      ],
      "metadata": {
        "id": "EgHzHB71z5ta"
      }
    },
    {
      "cell_type": "code",
      "source": [],
      "metadata": {
        "id": "EUTSQuUQ0YbG"
      },
      "execution_count": null,
      "outputs": []
    },
    {
      "cell_type": "markdown",
      "source": [
        "## Clean Data"
      ],
      "metadata": {
        "id": "VdVDGGK1z51n"
      }
    },
    {
      "cell_type": "code",
      "source": [],
      "metadata": {
        "id": "WxV_qr6a0azo"
      },
      "execution_count": null,
      "outputs": []
    },
    {
      "cell_type": "markdown",
      "source": [
        "## Exploratory Data Analysis"
      ],
      "metadata": {
        "id": "31KbGSL40JMc"
      }
    },
    {
      "cell_type": "code",
      "source": [],
      "metadata": {
        "id": "BXtOTuZA0bcl"
      },
      "execution_count": null,
      "outputs": []
    },
    {
      "cell_type": "markdown",
      "source": [
        "## Feature Inspection"
      ],
      "metadata": {
        "id": "NEqyDrpf0L1K"
      }
    },
    {
      "cell_type": "code",
      "source": [],
      "metadata": {
        "id": "4rb1JFeI0b_4"
      },
      "execution_count": null,
      "outputs": []
    }
  ]
}